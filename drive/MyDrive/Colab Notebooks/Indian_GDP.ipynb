{
  "nbformat": 4,
  "nbformat_minor": 0,
  "metadata": {
    "colab": {
      "provenance": []
    },
    "kernelspec": {
      "name": "python3",
      "display_name": "Python 3"
    },
    "language_info": {
      "name": "python"
    }
  },
  "cells": [
    {
      "cell_type": "code",
      "execution_count": null,
      "metadata": {
        "id": "m34mqCbiat7C"
      },
      "outputs": [],
      "source": [
        "import pandas as pd\n",
        "import matplotlib.pyplot as plt"
      ]
    },
    {
      "cell_type": "code",
      "source": [
        "data = pd.read_excel(\"india-gdp-gross-domestic-product.xlsx\")\n",
        "data.info()\n",
        "data.fillna(0, inplace=True)\n",
        "data"
      ],
      "metadata": {
        "id": "7Vy1S7LZa7hd"
      },
      "execution_count": null,
      "outputs": []
    },
    {
      "cell_type": "code",
      "source": [
        "row_select = data.iloc[-10:, 0:3]\n",
        "row_select\n",
        "row_select[[\"Year\", \"GDP ( Billions of US $)\", \"Per Capita (US $)\"]].plot(x=\"Year\", kind='bar', title='Indian GDP v/s Per capita over the years')\n"
      ],
      "metadata": {
        "id": "r2__t4tubnYF"
      },
      "execution_count": null,
      "outputs": []
    },
    {
      "cell_type": "code",
      "source": [
        "selection = data.iloc[-10:, -1::-3]\n",
        "ax = selection[[\"Year\", \"Growth Annual % Change\"]].plot(x=\"Year\",linestyle='dotted', marker='o', title='Annual growth rate over the years')\n",
        "ax"
      ],
      "metadata": {
        "id": "coQTPUaHuKyD"
      },
      "execution_count": null,
      "outputs": []
    }
  ]
}